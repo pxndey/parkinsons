{
 "cells": [
  {
   "cell_type": "code",
   "execution_count": null,
   "metadata": {
    "scrolled": true,
    "tags": []
   },
   "outputs": [],
   "source": [
    "import os\n",
    "import numpy as np\n",
    "from PIL import Image\n",
    "import numpy as np\n",
    "import pandas as pd\n",
    "import matplotlib.pyplot as plt\n",
    "import seaborn as sns\n",
    "from tensorflow.keras.applications import ResNet152\n",
    "import tensorflow as tf\n",
    "from sklearn.metrics.pairwise import cosine_similarity\n",
    "from sklearn.model_selection import train_test_split\n",
    "from sklearn.svm import SVC\n",
    "from sklearn.linear_model import LogisticRegression\n",
    "from sklearn.neighbors import KNeighborsClassifier\n",
    "from sklearn.metrics import confusion_matrix,ConfusionMatrixDisplay,accuracy_score,f1_score,precision_score,recall_score,roc_auc_score"
   ]
  },
  {
   "cell_type": "markdown",
   "metadata": {},
   "source": [
    "## Data Import"
   ]
  },
  {
   "cell_type": "code",
   "execution_count": 2,
   "metadata": {
    "scrolled": true
   },
   "outputs": [],
   "source": [
    "def load_images_from_folder(base_path,subpath):\n",
    "    datasets = {'healthy': {'images': [], 'labels': []},\n",
    "                'parkinson': {'images': [], 'labels': []}}\n",
    "    \n",
    "    for dataset in ['testing', 'training']:\n",
    "        dataset_path = os.path.join(base_path, subpath, dataset)\n",
    "        \n",
    "        for class_label, class_folder in enumerate(['healthy', 'parkinson']):\n",
    "            class_path = os.path.join(dataset_path, class_folder)\n",
    "            \n",
    "            if os.path.isdir(class_path):\n",
    "                for filename in os.listdir(class_path):\n",
    "                    img_path = os.path.join(class_path, filename)\n",
    "                    \n",
    "                    try:\n",
    "                        with Image.open(img_path) as img:\n",
    "                            img = img.convert('RGB')\n",
    "                            img = img.resize((224, 224))  # Adjust size as needed\n",
    "                            img_array = np.array(img)\n",
    "                            datasets[class_folder]['images'].append(img_array)\n",
    "                            datasets[class_folder]['labels'].append(class_label)\n",
    "                    except Exception as e:\n",
    "                        print(f\"Error loading image {img_path}: {e}\")\n",
    "    \n",
    "    # Convert lists to numpy arrays\n",
    "    for dataset in datasets:\n",
    "        datasets[dataset]['images'] = np.array(datasets[dataset]['images'])\n",
    "        datasets[dataset]['labels'] = np.array(datasets[dataset]['labels'])\n",
    "    \n",
    "    return datasets\n"
   ]
  },
  {
   "cell_type": "code",
   "execution_count": 3,
   "metadata": {
    "scrolled": true
   },
   "outputs": [
    {
     "name": "stdout",
     "output_type": "stream",
     "text": [
      "Loaded 51 healthy images and 51 parkinson images of spiral\n",
      "Image shape: (224, 224, 3)\n",
      "Number of classes: 2\n"
     ]
    }
   ],
   "source": [
    "# Usage\n",
    "base_path = 'D:\\Projects\\Parkinsons_disease\\image_model_v2\\data'\n",
    "datasets_spiral = load_images_from_folder(base_path,'spiral')\n",
    "\n",
    "# Access healthy and parkinson data separately\n",
    "X_healthy_spiral, y_healthy_spiral = datasets_spiral['healthy']['images'], datasets_spiral['healthy']['labels']\n",
    "X_parkinson_spiral, y_parkinson_spiral = datasets_spiral['parkinson']['images'], datasets_spiral['parkinson']['labels']\n",
    "\n",
    "print(f\"Loaded {len(X_healthy_spiral)} healthy images and {len(X_parkinson_spiral)} parkinson images of spiral\")\n",
    "print(f\"Image shape: {X_healthy_spiral[0].shape}\")\n",
    "print(f\"Number of classes: {len(np.unique(np.concatenate([y_healthy_spiral, y_parkinson_spiral])))}\")"
   ]
  },
  {
   "cell_type": "code",
   "execution_count": 4,
   "metadata": {
    "scrolled": true
   },
   "outputs": [
    {
     "name": "stdout",
     "output_type": "stream",
     "text": [
      "Loaded 51 healthy images and 51 parkinson images of wave\n",
      "Image shape: (224, 224, 3)\n",
      "Number of classes: 2\n"
     ]
    }
   ],
   "source": [
    "# Usage\n",
    "base_path = 'D:\\Projects\\Parkinsons_disease\\image_model_v2\\data'\n",
    "datasets_spiral = load_images_from_folder(base_path,'wave')\n",
    "\n",
    "# Access healthy and parkinson data separately\n",
    "X_healthy_wave, y_healthy_wave = datasets_spiral['healthy']['images'], datasets_spiral['healthy']['labels']\n",
    "X_parkinson_wave, y_parkinson_wave = datasets_spiral['parkinson']['images'], datasets_spiral['parkinson']['labels']\n",
    "\n",
    "print(f\"Loaded {len(X_healthy_wave)} healthy images and {len(X_parkinson_wave)} parkinson images of wave\")\n",
    "print(f\"Image shape: {X_healthy_wave[0].shape}\")\n",
    "print(f\"Number of classes: {len(np.unique(np.concatenate([y_healthy_wave, y_parkinson_wave])))}\")"
   ]
  },
  {
   "cell_type": "code",
   "execution_count": 5,
   "metadata": {
    "scrolled": true
   },
   "outputs": [],
   "source": [
    "# Step 1: Concatenate the arrays by type\n",
    "X_spiral = np.concatenate([X_healthy_spiral, X_parkinson_spiral])\n",
    "y_spiral = np.concatenate([np.zeros(len(X_healthy_spiral)), np.ones(len(X_parkinson_spiral))])\n",
    "\n",
    "X_wave = np.concatenate([X_healthy_wave, X_parkinson_wave])\n",
    "y_wave = np.concatenate([np.zeros(len(X_healthy_wave)), np.ones(len(X_parkinson_wave))])\n",
    "\n",
    "# Step 2: Split into train and test sets for spiral and wave\n",
    "X_spiral_train, X_spiral_test, y_spiral_train, y_spiral_test = train_test_split(X_spiral, y_spiral, test_size=0.2, random_state=0)\n",
    "X_wave_train, X_wave_test, y_wave_train, y_wave_test = train_test_split(X_wave, y_wave, test_size=0.2, random_state=0)\n",
    "\n",
    "# Step 3: Separate the training data back into individual class arrays\n",
    "X_train_spiral_healthy = X_spiral_train[y_spiral_train == 0]\n",
    "X_train_spiral_parkinson = X_spiral_train[y_spiral_train == 1]\n",
    "\n",
    "X_train_wave_healthy = X_wave_train[y_wave_train == 0]\n",
    "X_train_wave_parkinson = X_wave_train[y_wave_train == 1]"
   ]
  },
  {
   "cell_type": "markdown",
   "metadata": {},
   "source": [
    "### Spiral Healthy Resnet152 "
   ]
  },
  {
   "cell_type": "code",
   "execution_count": null,
   "metadata": {
    "scrolled": true
   },
   "outputs": [
    {
     "name": "stdout",
     "output_type": "stream",
     "text": [
      "2/2 [==============================] - 13s 1s/step\n"
     ]
    }
   ],
   "source": [
    "spiral_healthy_model = ResNet152V2(weights='imagenet',include_top=False)\n",
    "x = spiral_healthy_model.output\n",
    "healthy_embedding = tf.keras.layers.Flatten()(x)\n",
    "healthy_spiral_model = tf.keras.models.Model(inputs=spiral_healthy_model.input, outputs=healthy_embedding)\n",
    "h_spiral_embed = healthy_spiral_model.predict(X_train_spiral_healthy)"
   ]
  },
  {
   "cell_type": "code",
   "execution_count": 7,
   "metadata": {
    "scrolled": true
   },
   "outputs": [
    {
     "name": "stdout",
     "output_type": "stream",
     "text": [
      "WARNING:tensorflow:Compiled the loaded model, but the compiled metrics have yet to be built. `model.compile_metrics` will be empty until you train or evaluate the model.\n"
     ]
    }
   ],
   "source": [
    "np.save('D:\\\\Projects\\\\Parkinsons_disease\\\\image_model_v2\\\\embeddings\\\\healthy_embeddings_spiral.npy', h_spiral_embed)\n",
    "healthy_spiral_model.save('D:\\\\Projects\\\\Parkinsons_disease\\\\image_model_v2\\\\embeddings\\\\healthy_model_spiral.h5')"
   ]
  },
  {
   "cell_type": "markdown",
   "metadata": {},
   "source": [
    "### Spiral Parkinson Resnet152"
   ]
  },
  {
   "cell_type": "code",
   "execution_count": null,
   "metadata": {
    "scrolled": true
   },
   "outputs": [
    {
     "name": "stdout",
     "output_type": "stream",
     "text": [
      "2/2 [==============================] - 13s 1s/step\n"
     ]
    }
   ],
   "source": [
    "spiral_parkinson_model = ResNet152V2(weights='imagenet',include_top=False)\n",
    "x = spiral_parkinson_model.output\n",
    "parkinson_embedding = tf.keras.layers.Flatten()(x)\n",
    "parkinson_spiral_model = tf.keras.models.Model(inputs=spiral_parkinson_model.input, outputs=parkinson_embedding)\n",
    "p_spiral_embed = parkinson_spiral_model.predict(X_train_spiral_parkinson)"
   ]
  },
  {
   "cell_type": "code",
   "execution_count": 9,
   "metadata": {
    "scrolled": true
   },
   "outputs": [
    {
     "name": "stdout",
     "output_type": "stream",
     "text": [
      "WARNING:tensorflow:Compiled the loaded model, but the compiled metrics have yet to be built. `model.compile_metrics` will be empty until you train or evaluate the model.\n"
     ]
    }
   ],
   "source": [
    "np.save('D:\\\\Projects\\\\Parkinsons_disease\\\\image_model_v2\\\\embeddings\\\\parkinson_embeddings_spiral.npy', p_spiral_embed)\n",
    "parkinson_spiral_model.save('D:\\\\Projects\\\\Parkinsons_disease\\\\image_model_v2\\\\embeddings\\\\parkinson_model_spiral.h5')"
   ]
  },
  {
   "cell_type": "markdown",
   "metadata": {},
   "source": [
    "### Wave Healthy Resnet152"
   ]
  },
  {
   "cell_type": "code",
   "execution_count": null,
   "metadata": {
    "scrolled": true
   },
   "outputs": [
    {
     "name": "stdout",
     "output_type": "stream",
     "text": [
      "2/2 [==============================] - 13s 1s/step\n"
     ]
    }
   ],
   "source": [
    "wave_healthy_model = ResNet152V2(weights='imagenet',include_top=False)\n",
    "x = wave_healthy_model.output\n",
    "healthy_embedding = tf.keras.layers.Flatten()(x)\n",
    "healthy_wave_model = tf.keras.models.Model(inputs=wave_healthy_model.input, outputs=healthy_embedding)\n",
    "h_wave_embed = healthy_wave_model.predict(X_train_wave_healthy)"
   ]
  },
  {
   "cell_type": "code",
   "execution_count": 11,
   "metadata": {
    "scrolled": true
   },
   "outputs": [
    {
     "name": "stdout",
     "output_type": "stream",
     "text": [
      "WARNING:tensorflow:Compiled the loaded model, but the compiled metrics have yet to be built. `model.compile_metrics` will be empty until you train or evaluate the model.\n"
     ]
    }
   ],
   "source": [
    "np.save('D:\\\\Projects\\\\Parkinsons_disease\\\\image_model_v2\\\\embeddings\\\\healthy_embeddings_wave.npy', h_wave_embed)\n",
    "healthy_wave_model.save('D:\\\\Projects\\\\Parkinsons_disease\\\\image_model_v2\\\\embeddings\\\\healthy_model_wave.h5')"
   ]
  },
  {
   "cell_type": "markdown",
   "metadata": {},
   "source": [
    "### Wave Parkinson Resnet152"
   ]
  },
  {
   "cell_type": "code",
   "execution_count": null,
   "metadata": {
    "scrolled": true
   },
   "outputs": [
    {
     "name": "stdout",
     "output_type": "stream",
     "text": [
      "2/2 [==============================] - 13s 1s/step\n"
     ]
    }
   ],
   "source": [
    "wave_parkinson_model = ResNet152V2(weights='imagenet',include_top=False)\n",
    "x = wave_parkinson_model.output\n",
    "parkinson_embedding = tf.keras.layers.Flatten()(x)\n",
    "parkinson_wave_model = tf.keras.models.Model(inputs=wave_parkinson_model.input, outputs=parkinson_embedding)\n",
    "p_wave_embed = parkinson_wave_model.predict(X_train_wave_parkinson)"
   ]
  },
  {
   "cell_type": "code",
   "execution_count": 13,
   "metadata": {
    "scrolled": true
   },
   "outputs": [
    {
     "name": "stdout",
     "output_type": "stream",
     "text": [
      "WARNING:tensorflow:Compiled the loaded model, but the compiled metrics have yet to be built. `model.compile_metrics` will be empty until you train or evaluate the model.\n"
     ]
    }
   ],
   "source": [
    "np.save('D:\\\\Projects\\\\Parkinsons_disease\\\\image_model_v2\\\\embeddings\\\\parkinson_embeddings_wave.npy', p_wave_embed)\n",
    "parkinson_wave_model.save('D:\\\\Projects\\\\Parkinsons_disease\\\\image_model_v2\\\\embeddings\\\\parkinson_model_wave.h5')"
   ]
  },
  {
   "cell_type": "code",
   "execution_count": 14,
   "metadata": {
    "scrolled": true
   },
   "outputs": [],
   "source": [
    "def classify_images(wave_array,spiral_array):\n",
    "    embeddings_A_spiral = np.load('D:\\Projects\\Parkinsons_disease\\image_model_v2\\embeddings\\healthy_embeddings_spiral.npy')\n",
    "    embeddings_B_spiral = np.load('D:\\Projects\\Parkinsons_disease\\image_model_v2\\embeddings\\parkinson_embeddings_spiral.npy')\n",
    "    embeddings_A_wave = np.load('D:\\Projects\\Parkinsons_disease\\image_model_v2\\embeddings\\healthy_embeddings_wave.npy')\n",
    "    embeddings_B_wave = np.load('D:\\Projects\\Parkinsons_disease\\image_model_v2\\embeddings\\parkinson_embeddings_wave.npy')\n",
    "\n",
    "    parkinson_spiral_model = tf.keras.models.load_model('D:\\Projects\\Parkinsons_disease\\image_model_v2\\embeddings\\parkinson_model_spiral.h5')\n",
    "    healthy_spiral_model = tf.keras.models.load_model('D:\\Projects\\Parkinsons_disease\\image_model_v2\\embeddings\\healthy_model_spiral.h5')\n",
    "    parkinson_wave_model = tf.keras.models.load_model('D:\\Projects\\Parkinsons_disease\\image_model_v2\\embeddings\\parkinson_model_wave.h5')\n",
    "    healthy_wave_model = tf.keras.models.load_model('D:\\Projects\\Parkinsons_disease\\image_model_v2\\embeddings\\healthy_model_wave.h5')\n",
    "    class_confidence = []\n",
    "\n",
    "    for i in range(wave_array.shape[0]):\n",
    "        temp = []\n",
    "        wave_preds_h = healthy_wave_model.predict(np.expand_dims(wave_array[i], axis=0))\n",
    "        wave_preds_p = parkinson_wave_model.predict(np.expand_dims(wave_array[i], axis=0))\n",
    "        spiral_preds_h = healthy_spiral_model.predict(np.expand_dims(spiral_array[i], axis=0))\n",
    "        spiral_preds_p = parkinson_spiral_model.predict(np.expand_dims(spiral_array[i], axis=0))\n",
    "    \n",
    "        # Compute similarity scores fior wave\n",
    "        sim_A = np.max(cosine_similarity(wave_preds_h, embeddings_A_wave))\n",
    "        sim_B = np.max(cosine_similarity(wave_preds_p, embeddings_B_wave))\n",
    "        if sim_A > sim_B:\n",
    "            temp.append(abs(1-((sim_A+1)/2)))\n",
    "        else:\n",
    "            temp.append(((sim_B+1)/2))\n",
    "        \n",
    "        # Compute similarity scores fior spiral\n",
    "        sim_A = np.max(cosine_similarity(spiral_preds_h,embeddings_A_spiral))\n",
    "        sim_B = np.max(cosine_similarity(spiral_preds_p, embeddings_B_spiral))\n",
    "        if sim_A > sim_B:\n",
    "            temp.append(abs(1-((sim_A+1)/2)))\n",
    "        else:\n",
    "            temp.append(((sim_B+1)/2))\n",
    "        \n",
    "        class_confidence.append(temp)\n",
    "    return class_confidence"
   ]
  },
  {
   "cell_type": "code",
   "execution_count": 15,
   "metadata": {
    "scrolled": true
   },
   "outputs": [
    {
     "name": "stdout",
     "output_type": "stream",
     "text": [
      "WARNING:tensorflow:No training configuration found in the save file, so the model was *not* compiled. Compile it manually.\n",
      "WARNING:tensorflow:No training configuration found in the save file, so the model was *not* compiled. Compile it manually.\n",
      "WARNING:tensorflow:No training configuration found in the save file, so the model was *not* compiled. Compile it manually.\n",
      "WARNING:tensorflow:No training configuration found in the save file, so the model was *not* compiled. Compile it manually.\n",
      "WARNING:tensorflow:5 out of the last 9 calls to <function Model.make_predict_function.<locals>.predict_function at 0x00000223C1298160> triggered tf.function retracing. Tracing is expensive and the excessive number of tracings could be due to (1) creating @tf.function repeatedly in a loop, (2) passing tensors with different shapes, (3) passing Python objects instead of tensors. For (1), please define your @tf.function outside of the loop. For (2), @tf.function has reduce_retracing=True option that can avoid unnecessary retracing. For (3), please refer to https://www.tensorflow.org/guide/function#controlling_retracing and https://www.tensorflow.org/api_docs/python/tf/function for  more details.\n",
      "1/1 [==============================] - 9s 9s/step\n",
      "WARNING:tensorflow:6 out of the last 10 calls to <function Model.make_predict_function.<locals>.predict_function at 0x00000223C1298940> triggered tf.function retracing. Tracing is expensive and the excessive number of tracings could be due to (1) creating @tf.function repeatedly in a loop, (2) passing tensors with different shapes, (3) passing Python objects instead of tensors. For (1), please define your @tf.function outside of the loop. For (2), @tf.function has reduce_retracing=True option that can avoid unnecessary retracing. For (3), please refer to https://www.tensorflow.org/guide/function#controlling_retracing and https://www.tensorflow.org/api_docs/python/tf/function for  more details.\n",
      "1/1 [==============================] - 9s 9s/step\n",
      "1/1 [==============================] - 10s 10s/step\n",
      "1/1 [==============================] - 8s 8s/step\n",
      "1/1 [==============================] - 0s 393ms/step\n",
      "1/1 [==============================] - 0s 363ms/step\n",
      "1/1 [==============================] - 0s 378ms/step\n",
      "1/1 [==============================] - 0s 386ms/step\n",
      "1/1 [==============================] - 1s 541ms/step\n",
      "1/1 [==============================] - 0s 381ms/step\n",
      "1/1 [==============================] - 0s 380ms/step\n",
      "1/1 [==============================] - 0s 380ms/step\n",
      "1/1 [==============================] - 1s 526ms/step\n",
      "1/1 [==============================] - 0s 374ms/step\n",
      "1/1 [==============================] - 0s 372ms/step\n",
      "1/1 [==============================] - 0s 377ms/step\n",
      "1/1 [==============================] - 1s 568ms/step\n",
      "1/1 [==============================] - 0s 372ms/step\n",
      "1/1 [==============================] - 0s 395ms/step\n",
      "1/1 [==============================] - 0s 392ms/step\n",
      "1/1 [==============================] - 1s 532ms/step\n",
      "1/1 [==============================] - 0s 369ms/step\n",
      "1/1 [==============================] - 0s 373ms/step\n",
      "1/1 [==============================] - 0s 382ms/step\n",
      "1/1 [==============================] - 1s 572ms/step\n",
      "1/1 [==============================] - 0s 372ms/step\n",
      "1/1 [==============================] - 0s 371ms/step\n",
      "1/1 [==============================] - 0s 394ms/step\n",
      "1/1 [==============================] - 0s 457ms/step\n",
      "1/1 [==============================] - 0s 389ms/step\n",
      "1/1 [==============================] - 0s 387ms/step\n",
      "1/1 [==============================] - 0s 372ms/step\n",
      "1/1 [==============================] - 1s 519ms/step\n",
      "1/1 [==============================] - 0s 355ms/step\n",
      "1/1 [==============================] - 0s 373ms/step\n",
      "1/1 [==============================] - 0s 372ms/step\n",
      "1/1 [==============================] - 1s 505ms/step\n",
      "1/1 [==============================] - 0s 391ms/step\n",
      "1/1 [==============================] - 0s 381ms/step\n",
      "1/1 [==============================] - 0s 384ms/step\n",
      "1/1 [==============================] - 1s 515ms/step\n",
      "1/1 [==============================] - 0s 439ms/step\n",
      "1/1 [==============================] - 0s 380ms/step\n",
      "1/1 [==============================] - 0s 366ms/step\n",
      "1/1 [==============================] - 1s 512ms/step\n",
      "1/1 [==============================] - 0s 384ms/step\n",
      "1/1 [==============================] - 0s 375ms/step\n",
      "1/1 [==============================] - 0s 385ms/step\n",
      "1/1 [==============================] - 1s 547ms/step\n",
      "1/1 [==============================] - 0s 383ms/step\n",
      "1/1 [==============================] - 0s 372ms/step\n",
      "1/1 [==============================] - 0s 367ms/step\n",
      "1/1 [==============================] - 1s 506ms/step\n",
      "1/1 [==============================] - 0s 380ms/step\n",
      "1/1 [==============================] - 0s 372ms/step\n",
      "1/1 [==============================] - 0s 364ms/step\n",
      "1/1 [==============================] - 1s 598ms/step\n",
      "1/1 [==============================] - 0s 379ms/step\n",
      "1/1 [==============================] - 0s 387ms/step\n",
      "1/1 [==============================] - 0s 381ms/step\n",
      "1/1 [==============================] - 1s 579ms/step\n",
      "1/1 [==============================] - 0s 373ms/step\n",
      "1/1 [==============================] - 0s 434ms/step\n",
      "1/1 [==============================] - 0s 374ms/step\n",
      "1/1 [==============================] - 1s 545ms/step\n",
      "1/1 [==============================] - 0s 373ms/step\n",
      "1/1 [==============================] - 0s 368ms/step\n",
      "1/1 [==============================] - 0s 384ms/step\n",
      "1/1 [==============================] - 1s 617ms/step\n",
      "1/1 [==============================] - 0s 370ms/step\n",
      "1/1 [==============================] - 0s 378ms/step\n",
      "1/1 [==============================] - 0s 390ms/step\n",
      "1/1 [==============================] - 1s 502ms/step\n",
      "1/1 [==============================] - 0s 371ms/step\n",
      "1/1 [==============================] - 0s 386ms/step\n",
      "1/1 [==============================] - 0s 351ms/step\n",
      "1/1 [==============================] - 0s 427ms/step\n",
      "1/1 [==============================] - 0s 368ms/step\n",
      "1/1 [==============================] - 0s 368ms/step\n",
      "1/1 [==============================] - 0s 386ms/step\n",
      "1/1 [==============================] - 1s 608ms/step\n",
      "1/1 [==============================] - 0s 390ms/step\n",
      "1/1 [==============================] - 0s 287ms/step\n",
      "1/1 [==============================] - 0s 272ms/step\n"
     ]
    }
   ],
   "source": [
    "conf = classify_images(X_wave_test,X_spiral_test)"
   ]
  },
  {
   "cell_type": "code",
   "execution_count": 16,
   "metadata": {
    "scrolled": true
   },
   "outputs": [
    {
     "data": {
      "text/plain": [
       "[[0.08480048179626465, 0.07035380601882935],\n",
       " [0.8597229719161987, 0.14428487420082092],\n",
       " [0.10309603810310364, 0.9060624837875366],\n",
       " [0.8980645835399628, 0.9057800769805908],\n",
       " [0.10419777035713196, 0.08155936002731323],\n",
       " [0.8999477922916412, 0.941735178232193],\n",
       " [0.12187612056732178, 0.09777241945266724],\n",
       " [0.11731889843940735, 0.9430963397026062],\n",
       " [0.8818644881248474, 0.8757441341876984],\n",
       " [0.911406934261322, 0.08297878503799438],\n",
       " [0.9290332198143005, 0.893962949514389],\n",
       " [0.8734197914600372, 0.14212077856063843],\n",
       " [0.9167165160179138, 0.8849819004535675],\n",
       " [0.10682070255279541, 0.02975296974182129],\n",
       " [0.11194175481796265, 0.05640628933906555],\n",
       " [0.12806367874145508, 0.042373061180114746],\n",
       " [0.08833274245262146, 0.04715079069137573],\n",
       " [0.14207294583320618, 0.053564608097076416],\n",
       " [0.08701467514038086, 0.0301627516746521],\n",
       " [0.08971166610717773, 0.09638708829879761],\n",
       " [0.11983191967010498, 0.0376187264919281]]"
      ]
     },
     "execution_count": 16,
     "metadata": {},
     "output_type": "execute_result"
    }
   ],
   "source": [
    "conf"
   ]
  },
  {
   "cell_type": "code",
   "execution_count": 17,
   "metadata": {
    "scrolled": true
   },
   "outputs": [],
   "source": [
    "a = pd.DataFrame(conf,columns=[\"wave_preds\",\"spiral_preds\",])"
   ]
  },
  {
   "cell_type": "code",
   "execution_count": 18,
   "metadata": {
    "scrolled": true
   },
   "outputs": [],
   "source": [
    "b = pd.DataFrame(y_wave_test,columns=['true_label'])"
   ]
  },
  {
   "cell_type": "code",
   "execution_count": 19,
   "metadata": {
    "scrolled": true
   },
   "outputs": [],
   "source": [
    "final = pd.concat([a,b],axis=1)"
   ]
  },
  {
   "cell_type": "code",
   "execution_count": 20,
   "metadata": {},
   "outputs": [],
   "source": [
    "df = final.copy()  # Create a copy to avoid modifying the original DataFrame\n",
    "df['wave_preds_bool'] = (df['wave_preds'] > 0.5).astype(int)\n",
    "df['spiral_preds_bool'] = (df['spiral_preds'] > 0.5).astype(int)\n",
    "\n",
    "# Step 2: Create the 'prediction' column based on the condition\n",
    "df['prediction_AND'] = ((df['wave_preds_bool'] == 1) & (df['spiral_preds_bool'] == 1)).astype(int)\n",
    "df['prediction_OR'] = ((df['wave_preds_bool'] == 1) | (df['spiral_preds_bool'] == 1)).astype(int)\n",
    "df['true_label'] = (df['true_label']).astype(int)"
   ]
  },
  {
   "cell_type": "code",
   "execution_count": 21,
   "metadata": {},
   "outputs": [
    {
     "data": {
      "text/html": [
       "<div>\n",
       "<style scoped>\n",
       "    .dataframe tbody tr th:only-of-type {\n",
       "        vertical-align: middle;\n",
       "    }\n",
       "\n",
       "    .dataframe tbody tr th {\n",
       "        vertical-align: top;\n",
       "    }\n",
       "\n",
       "    .dataframe thead th {\n",
       "        text-align: right;\n",
       "    }\n",
       "</style>\n",
       "<table border=\"1\" class=\"dataframe\">\n",
       "  <thead>\n",
       "    <tr style=\"text-align: right;\">\n",
       "      <th></th>\n",
       "      <th>wave_preds</th>\n",
       "      <th>spiral_preds</th>\n",
       "      <th>true_label</th>\n",
       "      <th>wave_preds_bool</th>\n",
       "      <th>spiral_preds_bool</th>\n",
       "      <th>prediction_AND</th>\n",
       "      <th>prediction_OR</th>\n",
       "    </tr>\n",
       "  </thead>\n",
       "  <tbody>\n",
       "    <tr>\n",
       "      <th>0</th>\n",
       "      <td>0.084800</td>\n",
       "      <td>0.070354</td>\n",
       "      <td>0</td>\n",
       "      <td>0</td>\n",
       "      <td>0</td>\n",
       "      <td>0</td>\n",
       "      <td>0</td>\n",
       "    </tr>\n",
       "    <tr>\n",
       "      <th>1</th>\n",
       "      <td>0.859723</td>\n",
       "      <td>0.144285</td>\n",
       "      <td>1</td>\n",
       "      <td>1</td>\n",
       "      <td>0</td>\n",
       "      <td>0</td>\n",
       "      <td>1</td>\n",
       "    </tr>\n",
       "    <tr>\n",
       "      <th>2</th>\n",
       "      <td>0.103096</td>\n",
       "      <td>0.906062</td>\n",
       "      <td>0</td>\n",
       "      <td>0</td>\n",
       "      <td>1</td>\n",
       "      <td>0</td>\n",
       "      <td>1</td>\n",
       "    </tr>\n",
       "    <tr>\n",
       "      <th>3</th>\n",
       "      <td>0.898065</td>\n",
       "      <td>0.905780</td>\n",
       "      <td>1</td>\n",
       "      <td>1</td>\n",
       "      <td>1</td>\n",
       "      <td>1</td>\n",
       "      <td>1</td>\n",
       "    </tr>\n",
       "    <tr>\n",
       "      <th>4</th>\n",
       "      <td>0.104198</td>\n",
       "      <td>0.081559</td>\n",
       "      <td>1</td>\n",
       "      <td>0</td>\n",
       "      <td>0</td>\n",
       "      <td>0</td>\n",
       "      <td>0</td>\n",
       "    </tr>\n",
       "    <tr>\n",
       "      <th>5</th>\n",
       "      <td>0.899948</td>\n",
       "      <td>0.941735</td>\n",
       "      <td>1</td>\n",
       "      <td>1</td>\n",
       "      <td>1</td>\n",
       "      <td>1</td>\n",
       "      <td>1</td>\n",
       "    </tr>\n",
       "    <tr>\n",
       "      <th>6</th>\n",
       "      <td>0.121876</td>\n",
       "      <td>0.097772</td>\n",
       "      <td>0</td>\n",
       "      <td>0</td>\n",
       "      <td>0</td>\n",
       "      <td>0</td>\n",
       "      <td>0</td>\n",
       "    </tr>\n",
       "    <tr>\n",
       "      <th>7</th>\n",
       "      <td>0.117319</td>\n",
       "      <td>0.943096</td>\n",
       "      <td>1</td>\n",
       "      <td>0</td>\n",
       "      <td>1</td>\n",
       "      <td>0</td>\n",
       "      <td>1</td>\n",
       "    </tr>\n",
       "    <tr>\n",
       "      <th>8</th>\n",
       "      <td>0.881864</td>\n",
       "      <td>0.875744</td>\n",
       "      <td>1</td>\n",
       "      <td>1</td>\n",
       "      <td>1</td>\n",
       "      <td>1</td>\n",
       "      <td>1</td>\n",
       "    </tr>\n",
       "    <tr>\n",
       "      <th>9</th>\n",
       "      <td>0.911407</td>\n",
       "      <td>0.082979</td>\n",
       "      <td>1</td>\n",
       "      <td>1</td>\n",
       "      <td>0</td>\n",
       "      <td>0</td>\n",
       "      <td>1</td>\n",
       "    </tr>\n",
       "    <tr>\n",
       "      <th>10</th>\n",
       "      <td>0.929033</td>\n",
       "      <td>0.893963</td>\n",
       "      <td>1</td>\n",
       "      <td>1</td>\n",
       "      <td>1</td>\n",
       "      <td>1</td>\n",
       "      <td>1</td>\n",
       "    </tr>\n",
       "    <tr>\n",
       "      <th>11</th>\n",
       "      <td>0.873420</td>\n",
       "      <td>0.142121</td>\n",
       "      <td>1</td>\n",
       "      <td>1</td>\n",
       "      <td>0</td>\n",
       "      <td>0</td>\n",
       "      <td>1</td>\n",
       "    </tr>\n",
       "    <tr>\n",
       "      <th>12</th>\n",
       "      <td>0.916717</td>\n",
       "      <td>0.884982</td>\n",
       "      <td>1</td>\n",
       "      <td>1</td>\n",
       "      <td>1</td>\n",
       "      <td>1</td>\n",
       "      <td>1</td>\n",
       "    </tr>\n",
       "    <tr>\n",
       "      <th>13</th>\n",
       "      <td>0.106821</td>\n",
       "      <td>0.029753</td>\n",
       "      <td>0</td>\n",
       "      <td>0</td>\n",
       "      <td>0</td>\n",
       "      <td>0</td>\n",
       "      <td>0</td>\n",
       "    </tr>\n",
       "    <tr>\n",
       "      <th>14</th>\n",
       "      <td>0.111942</td>\n",
       "      <td>0.056406</td>\n",
       "      <td>0</td>\n",
       "      <td>0</td>\n",
       "      <td>0</td>\n",
       "      <td>0</td>\n",
       "      <td>0</td>\n",
       "    </tr>\n",
       "    <tr>\n",
       "      <th>15</th>\n",
       "      <td>0.128064</td>\n",
       "      <td>0.042373</td>\n",
       "      <td>0</td>\n",
       "      <td>0</td>\n",
       "      <td>0</td>\n",
       "      <td>0</td>\n",
       "      <td>0</td>\n",
       "    </tr>\n",
       "    <tr>\n",
       "      <th>16</th>\n",
       "      <td>0.088333</td>\n",
       "      <td>0.047151</td>\n",
       "      <td>0</td>\n",
       "      <td>0</td>\n",
       "      <td>0</td>\n",
       "      <td>0</td>\n",
       "      <td>0</td>\n",
       "    </tr>\n",
       "    <tr>\n",
       "      <th>17</th>\n",
       "      <td>0.142073</td>\n",
       "      <td>0.053565</td>\n",
       "      <td>0</td>\n",
       "      <td>0</td>\n",
       "      <td>0</td>\n",
       "      <td>0</td>\n",
       "      <td>0</td>\n",
       "    </tr>\n",
       "    <tr>\n",
       "      <th>18</th>\n",
       "      <td>0.087015</td>\n",
       "      <td>0.030163</td>\n",
       "      <td>0</td>\n",
       "      <td>0</td>\n",
       "      <td>0</td>\n",
       "      <td>0</td>\n",
       "      <td>0</td>\n",
       "    </tr>\n",
       "    <tr>\n",
       "      <th>19</th>\n",
       "      <td>0.089712</td>\n",
       "      <td>0.096387</td>\n",
       "      <td>0</td>\n",
       "      <td>0</td>\n",
       "      <td>0</td>\n",
       "      <td>0</td>\n",
       "      <td>0</td>\n",
       "    </tr>\n",
       "    <tr>\n",
       "      <th>20</th>\n",
       "      <td>0.119832</td>\n",
       "      <td>0.037619</td>\n",
       "      <td>0</td>\n",
       "      <td>0</td>\n",
       "      <td>0</td>\n",
       "      <td>0</td>\n",
       "      <td>0</td>\n",
       "    </tr>\n",
       "  </tbody>\n",
       "</table>\n",
       "</div>"
      ],
      "text/plain": [
       "    wave_preds  spiral_preds  true_label  wave_preds_bool  spiral_preds_bool  \\\n",
       "0     0.084800      0.070354           0                0                  0   \n",
       "1     0.859723      0.144285           1                1                  0   \n",
       "2     0.103096      0.906062           0                0                  1   \n",
       "3     0.898065      0.905780           1                1                  1   \n",
       "4     0.104198      0.081559           1                0                  0   \n",
       "5     0.899948      0.941735           1                1                  1   \n",
       "6     0.121876      0.097772           0                0                  0   \n",
       "7     0.117319      0.943096           1                0                  1   \n",
       "8     0.881864      0.875744           1                1                  1   \n",
       "9     0.911407      0.082979           1                1                  0   \n",
       "10    0.929033      0.893963           1                1                  1   \n",
       "11    0.873420      0.142121           1                1                  0   \n",
       "12    0.916717      0.884982           1                1                  1   \n",
       "13    0.106821      0.029753           0                0                  0   \n",
       "14    0.111942      0.056406           0                0                  0   \n",
       "15    0.128064      0.042373           0                0                  0   \n",
       "16    0.088333      0.047151           0                0                  0   \n",
       "17    0.142073      0.053565           0                0                  0   \n",
       "18    0.087015      0.030163           0                0                  0   \n",
       "19    0.089712      0.096387           0                0                  0   \n",
       "20    0.119832      0.037619           0                0                  0   \n",
       "\n",
       "    prediction_AND  prediction_OR  \n",
       "0                0              0  \n",
       "1                0              1  \n",
       "2                0              1  \n",
       "3                1              1  \n",
       "4                0              0  \n",
       "5                1              1  \n",
       "6                0              0  \n",
       "7                0              1  \n",
       "8                1              1  \n",
       "9                0              1  \n",
       "10               1              1  \n",
       "11               0              1  \n",
       "12               1              1  \n",
       "13               0              0  \n",
       "14               0              0  \n",
       "15               0              0  \n",
       "16               0              0  \n",
       "17               0              0  \n",
       "18               0              0  \n",
       "19               0              0  \n",
       "20               0              0  "
      ]
     },
     "execution_count": 21,
     "metadata": {},
     "output_type": "execute_result"
    }
   ],
   "source": [
    "df"
   ]
  },
  {
   "cell_type": "markdown",
   "metadata": {},
   "source": [
    "# Considering Both Models Predictions"
   ]
  },
  {
   "cell_type": "code",
   "execution_count": 22,
   "metadata": {},
   "outputs": [
    {
     "name": "stdout",
     "output_type": "stream",
     "text": [
      "True Positives (TP): 5\n",
      "True Negatives (TN): 11\n",
      "False Positives (FP): 0\n",
      "False Negatives (FN): 5\n"
     ]
    }
   ],
   "source": [
    "# Iterate over the DataFrame to calculate TP, TN, FP, FN\n",
    "TP = 0  # True Positives\n",
    "TN = 0  # True Negatives\n",
    "FP = 0  # False Positives\n",
    "FN = 0  # False Negatives\n",
    "\n",
    "for true, pred in zip(df['true_label'], df['prediction_AND']):\n",
    "    if true == 1 and pred == 1:\n",
    "        TP += 1  # True Positive\n",
    "    elif true == 0 and pred == 0:\n",
    "        TN += 1  # True Negative\n",
    "    elif true == 0 and pred == 1:\n",
    "        FP += 1  # False Positive\n",
    "    elif true == 1 and pred == 0:\n",
    "        FN += 1  # False Negative\n",
    "\n",
    "print(f'True Positives (TP): {TP}')\n",
    "print(f'True Negatives (TN): {TN}')\n",
    "print(f'False Positives (FP): {FP}')\n",
    "print(f'False Negatives (FN): {FN}')\n"
   ]
  },
  {
   "cell_type": "code",
   "execution_count": 23,
   "metadata": {},
   "outputs": [
    {
     "name": "stdout",
     "output_type": "stream",
     "text": [
      "Accuracy is 0.7619047619047619\n",
      "Precision is 1.0\n",
      "Recall is 0.5\n",
      "F1 Score is <function f1_score at 0x0000022329EA5D30>\n"
     ]
    }
   ],
   "source": [
    "print(f\"Accuracy is {(TP + TN) / (TP + FP + TN + FN)}\")\n",
    "# Precision: TP / (TP + FP)\n",
    "print(f\"Precision is {TP / (TP + FP)}\")\n",
    "# Recall: TP / (TP + FN)\n",
    "print(f\"Recall is {TP / (TP + FN)}\")\n",
    "# F1 Score: 2 * (Precision * Recall) / (Precision + Recall)\n",
    "precision = TP / (TP + FP)\n",
    "recall = TP / (TP + FN)\n",
    "f1 = 2 * (precision * recall) / (precision + recall)\n",
    "print(f\"F1 Score is {f1_score}\")"
   ]
  },
  {
   "cell_type": "markdown",
   "metadata": {},
   "source": [
    "# Considering Any One Model's Predictions"
   ]
  },
  {
   "cell_type": "code",
   "execution_count": 24,
   "metadata": {},
   "outputs": [
    {
     "name": "stdout",
     "output_type": "stream",
     "text": [
      "True Positives (TP): 9\n",
      "True Negatives (TN): 10\n",
      "False Positives (FP): 1\n",
      "False Negatives (FN): 1\n"
     ]
    }
   ],
   "source": [
    "# Iterate over the DataFrame to calculate TP, TN, FP, FN\n",
    "TP = 0  # True Positives\n",
    "TN = 0  # True Negatives\n",
    "FP = 0  # False Positives\n",
    "FN = 0  # False Negatives\n",
    "\n",
    "for true, pred in zip(df['true_label'], df['prediction_OR']):\n",
    "    if true == 1 and pred == 1:\n",
    "        TP += 1  # True Positive\n",
    "    elif true == 0 and pred == 0:\n",
    "        TN += 1  # True Negative\n",
    "    elif true == 0 and pred == 1:\n",
    "        FP += 1  # False Positive\n",
    "    elif true == 1 and pred == 0:\n",
    "        FN += 1  # False Negative\n",
    "\n",
    "print(f'True Positives (TP): {TP}')\n",
    "print(f'True Negatives (TN): {TN}')\n",
    "print(f'False Positives (FP): {FP}')\n",
    "print(f'False Negatives (FN): {FN}')\n"
   ]
  },
  {
   "cell_type": "code",
   "execution_count": 25,
   "metadata": {},
   "outputs": [
    {
     "name": "stdout",
     "output_type": "stream",
     "text": [
      "Accuracy is 0.9047619047619048\n",
      "Precision is 0.9\n",
      "Recall is 0.9\n",
      "F1 Score is <function f1_score at 0x0000022329EA5D30>\n"
     ]
    }
   ],
   "source": [
    "print(f\"Accuracy is {(TP + TN) / (TP + FP + TN + FN)}\")\n",
    "# Precision: TP / (TP + FP)\n",
    "print(f\"Precision is {TP / (TP + FP)}\")\n",
    "# Recall: TP / (TP + FN)\n",
    "print(f\"Recall is {TP / (TP + FN)}\")\n",
    "# F1 Score: 2 * (Precision * Recall) / (Precision + Recall)\n",
    "precision = TP / (TP + FP)\n",
    "recall = TP / (TP + FN)\n",
    "f1 = 2 * (precision * recall) / (precision + recall)\n",
    "print(f\"F1 Score is {f1_score}\")"
   ]
  },
  {
   "cell_type": "code",
   "execution_count": 26,
   "metadata": {},
   "outputs": [],
   "source": [
    "X = df.drop(columns=['spiral_preds_bool','wave_preds_bool','true_label','prediction_AND','prediction_OR'],axis=1)\n",
    "y= df['true_label']"
   ]
  },
  {
   "cell_type": "code",
   "execution_count": 27,
   "metadata": {},
   "outputs": [],
   "source": [
    "xtrain,xtest,ytrain,ytest = train_test_split(X,y,test_size=0.3,random_state=0)"
   ]
  },
  {
   "cell_type": "code",
   "execution_count": 28,
   "metadata": {},
   "outputs": [
    {
     "data": {
      "text/plain": [
       "(14, 2)"
      ]
     },
     "execution_count": 28,
     "metadata": {},
     "output_type": "execute_result"
    }
   ],
   "source": [
    "xtrain.shape"
   ]
  },
  {
   "cell_type": "code",
   "execution_count": 29,
   "metadata": {},
   "outputs": [
    {
     "name": "stdout",
     "output_type": "stream",
     "text": [
      "Accuracy: 1.0\n",
      "Precision: 1.0\n",
      "Recall: 1.0\n",
      "F1 Score: 1.0\n",
      "ROC Score: 1.0\n"
     ]
    },
    {
     "data": {
      "text/plain": [
       "<sklearn.metrics._plot.confusion_matrix.ConfusionMatrixDisplay at 0x22390731220>"
      ]
     },
     "execution_count": 29,
     "metadata": {},
     "output_type": "execute_result"
    },
    {
     "data": {
      "image/png": "[encoded data removed]",
      "text/plain": [
       "<Figure size 640x480 with 2 Axes>"
      ]
     },
     "metadata": {},
     "output_type": "display_data"
    }
   ],
   "source": [
    "svc = SVC()\n",
    "svc.fit(xtrain,ytrain)\n",
    "svcPreds = svc.predict(xtest)\n",
    "print(f\"Accuracy: {accuracy_score(ytest,svcPreds)}\")\n",
    "print(f\"Precision: {precision_score(ytest,svcPreds)}\")\n",
    "print(f\"Recall: {recall_score(ytest,svcPreds)}\")\n",
    "print(f\"F1 Score: {f1_score(ytest,svcPreds)}\")\n",
    "print(f\"ROC Score: {roc_auc_score(ytest,svcPreds)}\")\n",
    "ConfusionMatrixDisplay(confusion_matrix=confusion_matrix(svcPreds,ytest)).plot()\n"
   ]
  },
  {
   "cell_type": "code",
   "execution_count": 30,
   "metadata": {},
   "outputs": [
    {
     "name": "stdout",
     "output_type": "stream",
     "text": [
      "Accuracy: 1.0\n",
      "Precision: 1.0\n",
      "Recall: 1.0\n",
      "F1 Score: 1.0\n",
      "ROC Score: 1.0\n"
     ]
    },
    {
     "data": {
      "text/plain": [
       "<sklearn.metrics._plot.confusion_matrix.ConfusionMatrixDisplay at 0x223ded55850>"
      ]
     },
     "execution_count": 30,
     "metadata": {},
     "output_type": "execute_result"
    },
    {
     "data": {
      "image/png": "[encoded data removed]",
      "text/plain": [
       "<Figure size 640x480 with 2 Axes>"
      ]
     },
     "metadata": {},
     "output_type": "display_data"
    }
   ],
   "source": [
    "log = LogisticRegression()\n",
    "log.fit(xtrain,ytrain)\n",
    "logPreds = log.predict(xtest)\n",
    "print(f\"Accuracy: {accuracy_score(ytest,logPreds)}\")\n",
    "print(f\"Precision: {precision_score(ytest,logPreds)}\")\n",
    "print(f\"Recall: {recall_score(ytest,logPreds)}\")\n",
    "print(f\"F1 Score: {f1_score(ytest,logPreds)}\")\n",
    "print(f\"ROC Score: {roc_auc_score(ytest,logPreds)}\")\n",
    "ConfusionMatrixDisplay(confusion_matrix=confusion_matrix(logPreds,ytest)).plot()"
   ]
  },
  {
   "cell_type": "code",
   "execution_count": 31,
   "metadata": {},
   "outputs": [
    {
     "name": "stdout",
     "output_type": "stream",
     "text": [
      "Accuracy: 0.7142857142857143\n",
      "Precision: 1.0\n",
      "Recall: 0.5\n",
      "F1 Score: 0.6666666666666666\n",
      "ROC Score: 0.75\n"
     ]
    },
    {
     "data": {
      "text/plain": [
       "<sklearn.metrics._plot.confusion_matrix.ConfusionMatrixDisplay at 0x223dede0df0>"
      ]
     },
     "execution_count": 31,
     "metadata": {},
     "output_type": "execute_result"
    },
    {
     "data": {
      "image/png": "[encoded data removed]",
      "text/plain": [
       "<Figure size 640x480 with 2 Axes>"
      ]
     },
     "metadata": {},
     "output_type": "display_data"
    }
   ],
   "source": [
    "knn = KNeighborsClassifier()\n",
    "knn.fit(xtrain,ytrain)\n",
    "knnPreds = knn.predict(xtest)\n",
    "print(f\"Accuracy: {accuracy_score(ytest,knnPreds)}\")\n",
    "print(f\"Precision: {precision_score(ytest,knnPreds)}\")\n",
    "print(f\"Recall: {recall_score(ytest,knnPreds)}\")\n",
    "print(f\"F1 Score: {f1_score(ytest,knnPreds)}\")\n",
    "print(f\"ROC Score: {roc_auc_score(ytest,knnPreds)}\")\n",
    "ConfusionMatrixDisplay(confusion_matrix=confusion_matrix(knnPreds,ytest)).plot()"
   ]
  },
  {
   "cell_type": "code",
   "execution_count": null,
   "metadata": {},
   "outputs": [],
   "source": []
  },
  {
   "cell_type": "code",
   "execution_count": null,
   "metadata": {},
   "outputs": [],
   "source": []
  }
 ],
 "metadata": {
  "kernelspec": {
   "display_name": "mlEnv",
   "language": "python",
   "name": "python3"
  },
  "language_info": {
   "codemirror_mode": {
    "name": "ipython",
    "version": 3
   },
   "file_extension": ".py",
   "mimetype": "text/x-python",
   "name": "python",
   "nbconvert_exporter": "python",
   "pygments_lexer": "ipython3",
   "version": "3.9.17"
  }
 },
 "nbformat": 4,
 "nbformat_minor": 4
}
