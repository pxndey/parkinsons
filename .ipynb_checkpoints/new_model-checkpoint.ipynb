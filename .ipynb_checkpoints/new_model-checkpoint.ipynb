{
 "cells": [
  {
   "cell_type": "code",
   "execution_count": 1,
   "metadata": {
    "scrolled": true,
    "tags": []
   },
   "outputs": [],
   "source": [
    "import os\n",
    "import numpy as np\n",
    "from PIL import Image\n",
    "import numpy as np\n",
    "import pandas as pd\n",
    "import matplotlib.pyplot as plt\n",
    "import seaborn as sns\n",
    "from tensorflow.keras.applications import ResNet152\n",
    "import tensorflow as tf\n",
    "from sklearn.metrics.pairwise import cosine_similarity"
   ]
  },
  {
   "cell_type": "code",
   "execution_count": 2,
   "metadata": {
    "scrolled": true
   },
   "outputs": [],
   "source": [
    "def load_images_from_folder(base_path,subpath):\n",
    "    datasets = {'healthy': {'images': [], 'labels': []},\n",
    "                'parkinson': {'images': [], 'labels': []}}\n",
    "    \n",
    "    for dataset in ['testing', 'training']:\n",
    "        dataset_path = os.path.join(base_path, subpath, dataset)\n",
    "        \n",
    "        for class_label, class_folder in enumerate(['healthy', 'parkinson']):\n",
    "            class_path = os.path.join(dataset_path, class_folder)\n",
    "            \n",
    "            if os.path.isdir(class_path):\n",
    "                for filename in os.listdir(class_path):\n",
    "                    img_path = os.path.join(class_path, filename)\n",
    "                    \n",
    "                    try:\n",
    "                        with Image.open(img_path) as img:\n",
    "                            img = img.convert('RGB')\n",
    "                            img = img.resize((224, 224))  # Adjust size as needed\n",
    "                            img_array = np.array(img)\n",
    "                            datasets[class_folder]['images'].append(img_array)\n",
    "                            datasets[class_folder]['labels'].append(class_label)\n",
    "                    except Exception as e:\n",
    "                        print(f\"Error loading image {img_path}: {e}\")\n",
    "    \n",
    "    # Convert lists to numpy arrays\n",
    "    for dataset in datasets:\n",
    "        datasets[dataset]['images'] = np.array(datasets[dataset]['images'])\n",
    "        datasets[dataset]['labels'] = np.array(datasets[dataset]['labels'])\n",
    "    \n",
    "    return datasets\n"
   ]
  },
  {
   "cell_type": "code",
   "execution_count": 3,
   "metadata": {
    "scrolled": true
   },
   "outputs": [
    {
     "name": "stdout",
     "output_type": "stream",
     "text": [
      "Loaded 51 healthy images and 51 parkinson images of spiral\n",
      "Image shape: (224, 224, 3)\n",
      "Number of classes: 2\n"
     ]
    }
   ],
   "source": [
    "# Usage\n",
    "base_path = 'D:\\Projects\\Parkinsons_disease\\image_model_v2\\data'\n",
    "datasets_spiral = load_images_from_folder(base_path,'spiral')\n",
    "\n",
    "# Access healthy and parkinson data separately\n",
    "X_healthy_spiral, y_healthy_spiral = datasets_spiral['healthy']['images'], datasets_spiral['healthy']['labels']\n",
    "X_parkinson_spiral, y_parkinson_spiral = datasets_spiral['parkinson']['images'], datasets_spiral['parkinson']['labels']\n",
    "\n",
    "print(f\"Loaded {len(X_healthy_spiral)} healthy images and {len(X_parkinson_spiral)} parkinson images of spiral\")\n",
    "print(f\"Image shape: {X_healthy_spiral[0].shape}\")\n",
    "print(f\"Number of classes: {len(np.unique(np.concatenate([y_healthy_spiral, y_parkinson_spiral])))}\")"
   ]
  },
  {
   "cell_type": "code",
   "execution_count": 4,
   "metadata": {
    "scrolled": true
   },
   "outputs": [
    {
     "name": "stdout",
     "output_type": "stream",
     "text": [
      "Loaded 51 healthy images and 51 parkinson images of wave\n",
      "Image shape: (224, 224, 3)\n",
      "Number of classes: 2\n"
     ]
    }
   ],
   "source": [
    "# Usage\n",
    "base_path = 'D:\\Projects\\Parkinsons_disease\\image_model_v2\\data'\n",
    "datasets_spiral = load_images_from_folder(base_path,'wave')\n",
    "\n",
    "# Access healthy and parkinson data separately\n",
    "X_healthy_wave, y_healthy_wave = datasets_spiral['healthy']['images'], datasets_spiral['healthy']['labels']\n",
    "X_parkinson_wave, y_parkinson_wave = datasets_spiral['parkinson']['images'], datasets_spiral['parkinson']['labels']\n",
    "\n",
    "print(f\"Loaded {len(X_healthy_wave)} healthy images and {len(X_parkinson_wave)} parkinson images of wave\")\n",
    "print(f\"Image shape: {X_healthy_wave[0].shape}\")\n",
    "print(f\"Number of classes: {len(np.unique(np.concatenate([y_healthy_wave, y_parkinson_wave])))}\")"
   ]
  },
  {
   "cell_type": "code",
   "execution_count": 5,
   "metadata": {
    "scrolled": true
   },
   "outputs": [
    {
     "data": {
      "text/plain": [
       "array([44, 47,  0,  3])"
      ]
     },
     "execution_count": 5,
     "metadata": {},
     "output_type": "execute_result"
    }
   ],
   "source": [
    "# Holdout Set\n",
    "\n",
    "np.random.seed(0)\n",
    "len = X_healthy_spiral.shape[0]\n",
    "seeds = np.random.randint(0,len,4)\n",
    "seeds"
   ]
  },
  {
   "cell_type": "code",
   "execution_count": 6,
   "metadata": {
    "scrolled": true
   },
   "outputs": [],
   "source": [
    "holdout_wave = []\n",
    "\n",
    "for seed in seeds:\n",
    "    holdout_wave.append(X_healthy_wave[seed])\n",
    "for seed in seeds:\n",
    "    holdout_wave.append(X_parkinson_wave[seed])\n",
    "\n",
    "holdout_wave = np.array(holdout_wave)"
   ]
  },
  {
   "cell_type": "code",
   "execution_count": 7,
   "metadata": {
    "scrolled": true
   },
   "outputs": [],
   "source": [
    "holdout_spiral = []\n",
    "\n",
    "for seed in seeds:\n",
    "    holdout_spiral.append(X_healthy_spiral[seed])\n",
    "for seed in seeds:\n",
    "    holdout_spiral.append(X_parkinson_spiral[seed])\n",
    "\n",
    "holdout_spiral = np.array(holdout_spiral)"
   ]
  },
  {
   "cell_type": "markdown",
   "metadata": {},
   "source": [
    "### Spiral Healthy Resnet152 "
   ]
  },
  {
   "cell_type": "code",
   "execution_count": 8,
   "metadata": {
    "scrolled": true
   },
   "outputs": [
    {
     "name": "stdout",
     "output_type": "stream",
     "text": [
      "2/2 [==============================] - 7s 1s/step\n"
     ]
    }
   ],
   "source": [
    "spiral_healthy_model = ResNet152(weights='imagenet',include_top=False)\n",
    "x = spiral_healthy_model.output\n",
    "healthy_embedding = tf.keras.layers.Flatten()(x)\n",
    "healthy_spiral_model = tf.keras.models.Model(inputs=spiral_healthy_model.input, outputs=healthy_embedding)\n",
    "h_spiral_embed = healthy_spiral_model.predict(X_healthy_spiral)"
   ]
  },
  {
   "cell_type": "code",
   "execution_count": 9,
   "metadata": {
    "scrolled": true
   },
   "outputs": [
    {
     "name": "stdout",
     "output_type": "stream",
     "text": [
      "WARNING:tensorflow:Compiled the loaded model, but the compiled metrics have yet to be built. `model.compile_metrics` will be empty until you train or evaluate the model.\n"
     ]
    }
   ],
   "source": [
    "np.save('D:\\\\Projects\\\\Parkinsons_disease\\\\image_model_v2\\\\embeddings\\\\healthy_embeddings_spiral.npy', h_spiral_embed)\n",
    "healthy_spiral_model.save('D:\\\\Projects\\\\Parkinsons_disease\\\\image_model_v2\\\\embeddings\\\\healthy_model_spiral.h5')"
   ]
  },
  {
   "cell_type": "markdown",
   "metadata": {},
   "source": [
    "### Spiral Parkinson Resnet152"
   ]
  },
  {
   "cell_type": "code",
   "execution_count": 10,
   "metadata": {
    "scrolled": true
   },
   "outputs": [
    {
     "name": "stdout",
     "output_type": "stream",
     "text": [
      "2/2 [==============================] - 6s 1s/step\n"
     ]
    }
   ],
   "source": [
    "spiral_parkinson_model = ResNet152(weights='imagenet',include_top=False)\n",
    "x = spiral_parkinson_model.output\n",
    "parkinson_embedding = tf.keras.layers.Flatten()(x)\n",
    "parkinson_spiral_model = tf.keras.models.Model(inputs=spiral_parkinson_model.input, outputs=parkinson_embedding)\n",
    "p_spiral_embed = parkinson_spiral_model.predict(X_parkinson_spiral)"
   ]
  },
  {
   "cell_type": "code",
   "execution_count": 11,
   "metadata": {
    "scrolled": true
   },
   "outputs": [
    {
     "name": "stdout",
     "output_type": "stream",
     "text": [
      "WARNING:tensorflow:Compiled the loaded model, but the compiled metrics have yet to be built. `model.compile_metrics` will be empty until you train or evaluate the model.\n"
     ]
    }
   ],
   "source": [
    "np.save('D:\\\\Projects\\\\Parkinsons_disease\\\\image_model_v2\\\\embeddings\\\\parkinson_embeddings_spiral.npy', p_spiral_embed)\n",
    "parkinson_spiral_model.save('D:\\\\Projects\\\\Parkinsons_disease\\\\image_model_v2\\\\embeddings\\\\parkinson_model_spiral.h5')"
   ]
  },
  {
   "cell_type": "markdown",
   "metadata": {},
   "source": [
    "### Wave Healthy Resnet152"
   ]
  },
  {
   "cell_type": "code",
   "execution_count": 12,
   "metadata": {
    "scrolled": true
   },
   "outputs": [
    {
     "name": "stdout",
     "output_type": "stream",
     "text": [
      "2/2 [==============================] - 6s 1s/step\n"
     ]
    }
   ],
   "source": [
    "wave_healthy_model = ResNet152(weights='imagenet',include_top=False)\n",
    "x = wave_healthy_model.output\n",
    "healthy_embedding = tf.keras.layers.Flatten()(x)\n",
    "healthy_wave_model = tf.keras.models.Model(inputs=wave_healthy_model.input, outputs=healthy_embedding)\n",
    "h_wave_embed = healthy_wave_model.predict(X_healthy_wave)"
   ]
  },
  {
   "cell_type": "code",
   "execution_count": 13,
   "metadata": {
    "scrolled": true
   },
   "outputs": [
    {
     "name": "stdout",
     "output_type": "stream",
     "text": [
      "WARNING:tensorflow:Compiled the loaded model, but the compiled metrics have yet to be built. `model.compile_metrics` will be empty until you train or evaluate the model.\n"
     ]
    }
   ],
   "source": [
    "np.save('D:\\\\Projects\\\\Parkinsons_disease\\\\image_model_v2\\\\embeddings\\\\healthy_embeddings_wave.npy', h_wave_embed)\n",
    "healthy_wave_model.save('D:\\\\Projects\\\\Parkinsons_disease\\\\image_model_v2\\\\embeddings\\\\healthy_model_wave.h5')"
   ]
  },
  {
   "cell_type": "markdown",
   "metadata": {},
   "source": [
    "### Wave Parkinson Resnet152"
   ]
  },
  {
   "cell_type": "code",
   "execution_count": 14,
   "metadata": {
    "scrolled": true
   },
   "outputs": [
    {
     "name": "stdout",
     "output_type": "stream",
     "text": [
      "2/2 [==============================] - 6s 1s/step\n"
     ]
    }
   ],
   "source": [
    "wave_parkinson_model = ResNet152(weights='imagenet',include_top=False)\n",
    "x = wave_parkinson_model.output\n",
    "parkinson_embedding = tf.keras.layers.Flatten()(x)\n",
    "parkinson_wave_model = tf.keras.models.Model(inputs=wave_parkinson_model.input, outputs=parkinson_embedding)\n",
    "p_wave_embed = parkinson_wave_model.predict(X_parkinson_wave)"
   ]
  },
  {
   "cell_type": "code",
   "execution_count": 15,
   "metadata": {
    "scrolled": true
   },
   "outputs": [
    {
     "name": "stdout",
     "output_type": "stream",
     "text": [
      "WARNING:tensorflow:Compiled the loaded model, but the compiled metrics have yet to be built. `model.compile_metrics` will be empty until you train or evaluate the model.\n"
     ]
    }
   ],
   "source": [
    "np.save('D:\\\\Projects\\\\Parkinsons_disease\\\\image_model_v2\\\\embeddings\\\\parkinson_embeddings_wave.npy', p_wave_embed)\n",
    "parkinson_wave_model.save('D:\\\\Projects\\\\Parkinsons_disease\\\\image_model_v2\\\\embeddings\\\\parkinson_model_wave.h5')"
   ]
  },
  {
   "cell_type": "code",
   "execution_count": 16,
   "metadata": {
    "scrolled": true
   },
   "outputs": [],
   "source": [
    "def classify_images(wave_array,spiral_array):\n",
    "    embeddings_A_spiral = np.load('D:\\Projects\\Parkinsons_disease\\image_model_v2\\embeddings\\healthy_embeddings_spiral.npy')\n",
    "    embeddings_B_spiral = np.load('D:\\Projects\\Parkinsons_disease\\image_model_v2\\embeddings\\parkinson_embeddings_spiral.npy')\n",
    "    embeddings_A_wave = np.load('D:\\Projects\\Parkinsons_disease\\image_model_v2\\embeddings\\healthy_embeddings_wave.npy')\n",
    "    embeddings_B_wave = np.load('D:\\Projects\\Parkinsons_disease\\image_model_v2\\embeddings\\parkinson_embeddings_wave.npy')\n",
    "\n",
    "    parkinson_spiral_model = tf.keras.models.load_model('D:\\Projects\\Parkinsons_disease\\image_model_v2\\embeddings\\parkinson_model_spiral.h5')\n",
    "    healthy_spiral_model = tf.keras.models.load_model('D:\\Projects\\Parkinsons_disease\\image_model_v2\\embeddings\\healthy_model_spiral.h5')\n",
    "    parkinson_wave_model = tf.keras.models.load_model('D:\\Projects\\Parkinsons_disease\\image_model_v2\\embeddings\\parkinson_model_wave.h5')\n",
    "    healthy_wave_model = tf.keras.models.load_model('D:\\Projects\\Parkinsons_disease\\image_model_v2\\embeddings\\healthy_model_wave.h5')\n",
    "    class_confidence = []\n",
    "\n",
    "    for i in range(wave_array.shape[0]):\n",
    "        temp = []\n",
    "        wave_preds_h = healthy_wave_model.predict(np.expand_dims(wave_array[i], axis=0))\n",
    "        wave_preds_p = parkinson_wave_model.predict(np.expand_dims(wave_array[i], axis=0))\n",
    "        spiral_preds_h = healthy_spiral_model.predict(np.expand_dims(spiral_array[i], axis=0))\n",
    "        spiral_preds_p = parkinson_spiral_model.predict(np.expand_dims(spiral_array[i], axis=0))\n",
    "    \n",
    "        # Compute similarity scores fior wave\n",
    "        sim_A = np.max(cosine_similarity(wave_preds_h, embeddings_A_wave))\n",
    "        sim_B = np.max(cosine_similarity(wave_preds_p, embeddings_B_wave))\n",
    "        if sim_A > sim_B:\n",
    "            temp.append(abs(1-((sim_A+1)/2)))\n",
    "        else:\n",
    "            temp.append(((sim_B+1)/2))\n",
    "        \n",
    "        # Compute similarity scores fior spiral\n",
    "        sim_A = np.max(cosine_similarity(spiral_preds_h,embeddings_A_spiral))\n",
    "        sim_B = np.max(cosine_similarity(spiral_preds_p, embeddings_B_spiral))\n",
    "        if sim_A > sim_B:\n",
    "            temp.append(abs(1-((sim_A+1)/2)))\n",
    "        else:\n",
    "            temp.append(((sim_B+1)/2))\n",
    "        \n",
    "        class_confidence.append(temp)\n",
    "    return class_confidence"
   ]
  },
  {
   "cell_type": "code",
   "execution_count": 17,
   "metadata": {
    "scrolled": true
   },
   "outputs": [
    {
     "name": "stdout",
     "output_type": "stream",
     "text": [
      "WARNING:tensorflow:No training configuration found in the save file, so the model was *not* compiled. Compile it manually.\n",
      "WARNING:tensorflow:No training configuration found in the save file, so the model was *not* compiled. Compile it manually.\n",
      "WARNING:tensorflow:No training configuration found in the save file, so the model was *not* compiled. Compile it manually.\n",
      "WARNING:tensorflow:No training configuration found in the save file, so the model was *not* compiled. Compile it manually.\n",
      "WARNING:tensorflow:5 out of the last 9 calls to <function Model.make_predict_function.<locals>.predict_function at 0x000001DABBFF5160> triggered tf.function retracing. Tracing is expensive and the excessive number of tracings could be due to (1) creating @tf.function repeatedly in a loop, (2) passing tensors with different shapes, (3) passing Python objects instead of tensors. For (1), please define your @tf.function outside of the loop. For (2), @tf.function has reduce_retracing=True option that can avoid unnecessary retracing. For (3), please refer to https://www.tensorflow.org/guide/function#controlling_retracing and https://www.tensorflow.org/api_docs/python/tf/function for  more details.\n",
      "1/1 [==============================] - 3s 3s/step\n",
      "WARNING:tensorflow:6 out of the last 10 calls to <function Model.make_predict_function.<locals>.predict_function at 0x000001DABBFF5C10> triggered tf.function retracing. Tracing is expensive and the excessive number of tracings could be due to (1) creating @tf.function repeatedly in a loop, (2) passing tensors with different shapes, (3) passing Python objects instead of tensors. For (1), please define your @tf.function outside of the loop. For (2), @tf.function has reduce_retracing=True option that can avoid unnecessary retracing. For (3), please refer to https://www.tensorflow.org/guide/function#controlling_retracing and https://www.tensorflow.org/api_docs/python/tf/function for  more details.\n",
      "1/1 [==============================] - 3s 3s/step\n",
      "1/1 [==============================] - 4s 4s/step\n",
      "1/1 [==============================] - 3s 3s/step\n",
      "1/1 [==============================] - 0s 203ms/step\n",
      "1/1 [==============================] - 0s 220ms/step\n",
      "1/1 [==============================] - 0s 203ms/step\n",
      "1/1 [==============================] - 0s 212ms/step\n",
      "1/1 [==============================] - 0s 188ms/step\n",
      "1/1 [==============================] - 0s 198ms/step\n",
      "1/1 [==============================] - 0s 203ms/step\n",
      "1/1 [==============================] - 0s 208ms/step\n",
      "1/1 [==============================] - 0s 236ms/step\n",
      "1/1 [==============================] - 0s 222ms/step\n",
      "1/1 [==============================] - 0s 222ms/step\n",
      "1/1 [==============================] - 0s 235ms/step\n",
      "1/1 [==============================] - 0s 228ms/step\n",
      "1/1 [==============================] - 0s 208ms/step\n",
      "1/1 [==============================] - 0s 219ms/step\n",
      "1/1 [==============================] - 0s 203ms/step\n",
      "1/1 [==============================] - 0s 246ms/step\n",
      "1/1 [==============================] - 0s 213ms/step\n",
      "1/1 [==============================] - 0s 228ms/step\n",
      "1/1 [==============================] - 0s 222ms/step\n",
      "1/1 [==============================] - 0s 234ms/step\n",
      "1/1 [==============================] - 0s 232ms/step\n",
      "1/1 [==============================] - 0s 216ms/step\n",
      "1/1 [==============================] - 0s 210ms/step\n",
      "1/1 [==============================] - 0s 228ms/step\n",
      "1/1 [==============================] - 0s 232ms/step\n",
      "1/1 [==============================] - 0s 219ms/step\n",
      "1/1 [==============================] - 0s 212ms/step\n"
     ]
    }
   ],
   "source": [
    "conf = classify_images(holdout_wave,holdout_spiral)"
   ]
  },
  {
   "cell_type": "code",
   "execution_count": 18,
   "metadata": {
    "scrolled": true
   },
   "outputs": [
    {
     "data": {
      "text/plain": [
       "[[0.0, 1.1920928955078125e-07],\n",
       " [8.940696716308594e-08, 2.086162567138672e-07],\n",
       " [0.0, 1.1920928955078125e-07],\n",
       " [3.5762786865234375e-07, 8.940696716308594e-08],\n",
       " [1.0000000596046448, 0.9999992549419403],\n",
       " [0.9999996721744537, 1.0],\n",
       " [1.0000004768371582, 0.9999997019767761],\n",
       " [1.0000001192092896, 1.0000000596046448]]"
      ]
     },
     "execution_count": 18,
     "metadata": {},
     "output_type": "execute_result"
    }
   ],
   "source": [
    "conf"
   ]
  },
  {
   "cell_type": "code",
   "execution_count": 19,
   "metadata": {
    "scrolled": true
   },
   "outputs": [],
   "source": [
    "a = pd.DataFrame(conf,columns=[\"wave_preds\",\"spiral_preds\",])"
   ]
  },
  {
   "cell_type": "code",
   "execution_count": 25,
   "metadata": {
    "scrolled": true
   },
   "outputs": [],
   "source": [
    "b = pd.DataFrame([0,0,0,0,1,1,1,1],columns=['true_label'])"
   ]
  },
  {
   "cell_type": "code",
   "execution_count": 26,
   "metadata": {
    "scrolled": true
   },
   "outputs": [],
   "source": [
    "final = pd.concat([a,b],axis=1)"
   ]
  },
  {
   "cell_type": "code",
   "execution_count": 27,
   "metadata": {
    "scrolled": true
   },
   "outputs": [
    {
     "data": {
      "text/html": [
       "<div>\n",
       "<style scoped>\n",
       "    .dataframe tbody tr th:only-of-type {\n",
       "        vertical-align: middle;\n",
       "    }\n",
       "\n",
       "    .dataframe tbody tr th {\n",
       "        vertical-align: top;\n",
       "    }\n",
       "\n",
       "    .dataframe thead th {\n",
       "        text-align: right;\n",
       "    }\n",
       "</style>\n",
       "<table border=\"1\" class=\"dataframe\">\n",
       "  <thead>\n",
       "    <tr style=\"text-align: right;\">\n",
       "      <th></th>\n",
       "      <th>wave_preds</th>\n",
       "      <th>spiral_preds</th>\n",
       "      <th>true_label</th>\n",
       "    </tr>\n",
       "  </thead>\n",
       "  <tbody>\n",
       "    <tr>\n",
       "      <th>0</th>\n",
       "      <td>0.000000e+00</td>\n",
       "      <td>1.192093e-07</td>\n",
       "      <td>0</td>\n",
       "    </tr>\n",
       "    <tr>\n",
       "      <th>1</th>\n",
       "      <td>8.940697e-08</td>\n",
       "      <td>2.086163e-07</td>\n",
       "      <td>0</td>\n",
       "    </tr>\n",
       "    <tr>\n",
       "      <th>2</th>\n",
       "      <td>0.000000e+00</td>\n",
       "      <td>1.192093e-07</td>\n",
       "      <td>0</td>\n",
       "    </tr>\n",
       "    <tr>\n",
       "      <th>3</th>\n",
       "      <td>3.576279e-07</td>\n",
       "      <td>8.940697e-08</td>\n",
       "      <td>0</td>\n",
       "    </tr>\n",
       "    <tr>\n",
       "      <th>4</th>\n",
       "      <td>1.000000e+00</td>\n",
       "      <td>9.999993e-01</td>\n",
       "      <td>1</td>\n",
       "    </tr>\n",
       "    <tr>\n",
       "      <th>5</th>\n",
       "      <td>9.999997e-01</td>\n",
       "      <td>1.000000e+00</td>\n",
       "      <td>1</td>\n",
       "    </tr>\n",
       "    <tr>\n",
       "      <th>6</th>\n",
       "      <td>1.000000e+00</td>\n",
       "      <td>9.999997e-01</td>\n",
       "      <td>1</td>\n",
       "    </tr>\n",
       "    <tr>\n",
       "      <th>7</th>\n",
       "      <td>1.000000e+00</td>\n",
       "      <td>1.000000e+00</td>\n",
       "      <td>1</td>\n",
       "    </tr>\n",
       "  </tbody>\n",
       "</table>\n",
       "</div>"
      ],
      "text/plain": [
       "     wave_preds  spiral_preds  true_label\n",
       "0  0.000000e+00  1.192093e-07           0\n",
       "1  8.940697e-08  2.086163e-07           0\n",
       "2  0.000000e+00  1.192093e-07           0\n",
       "3  3.576279e-07  8.940697e-08           0\n",
       "4  1.000000e+00  9.999993e-01           1\n",
       "5  9.999997e-01  1.000000e+00           1\n",
       "6  1.000000e+00  9.999997e-01           1\n",
       "7  1.000000e+00  1.000000e+00           1"
      ]
     },
     "execution_count": 27,
     "metadata": {},
     "output_type": "execute_result"
    }
   ],
   "source": [
    "final"
   ]
  },
  {
   "cell_type": "code",
   "execution_count": null,
   "metadata": {
    "scrolled": true
   },
   "outputs": [],
   "source": []
  }
 ],
 "metadata": {
  "kernelspec": {
   "display_name": "Python 3 (ipykernel)",
   "language": "python",
   "name": "python3"
  },
  "language_info": {
   "codemirror_mode": {
    "name": "ipython",
    "version": 3
   },
   "file_extension": ".py",
   "mimetype": "text/x-python",
   "name": "python",
   "nbconvert_exporter": "python",
   "pygments_lexer": "ipython3",
   "version": "3.9.17"
  }
 },
 "nbformat": 4,
 "nbformat_minor": 4
}
